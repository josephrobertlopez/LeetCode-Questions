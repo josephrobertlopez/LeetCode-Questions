{
 "cells": [
  {
   "cell_type": "markdown",
   "id": "c8937cf1",
   "metadata": {},
   "source": [
    "# Breadth-First Search"
   ]
  },
  {
   "cell_type": "markdown",
   "id": "30a8d737",
   "metadata": {},
   "source": [
    "This algorithm scans nodes horizontally, and then vertically. The algorithm iterates through all nodes within a graph $G$, from starting node $v_o$, until it reaches a destination node $v_f$. If $v_f$ is found, the list of points of the traversal are returned, otherwise null is returned. \n"
   ]
  },
  {
   "cell_type": "markdown",
   "id": "d3b3eff3",
   "metadata": {},
   "source": [
    "## Example Graph"
   ]
  },
  {
   "attachments": {
    "Screenshot%20from%202023-02-02%2010-30-04.png": {
     "image/png": "[encoded data removed]"
    }
   },
   "cell_type": "markdown",
   "id": "bfe5c93b",
   "metadata": {},
   "source": [
    "![Screenshot%20from%202023-02-02%2010-30-04.png](attachment:Screenshot%20from%202023-02-02%2010-30-04.png)"
   ]
  },
  {
   "cell_type": "code",
   "execution_count": 78,
   "id": "654a8af2",
   "metadata": {},
   "outputs": [],
   "source": [
    "## Adjacency List representation\n",
    "graph = {\n",
    "    \"a\":[\"b\",\"c\"],\n",
    "    \"b\":[\"d\",\"e\",\"f\",\"a\"],\n",
    "    \"c\":[\"g\",\"h\",\"a\"],\n",
    "    \"d\":[\"b\"],\n",
    "    \"e\":[\"b\"],\n",
    "    \"f\":[\"b\"],\n",
    "    \"g\":[\"c\"],\n",
    "    \"h\":[\"c\"],\n",
    "}"
   ]
  },
  {
   "cell_type": "code",
   "execution_count": 79,
   "id": "fa333bb6",
   "metadata": {},
   "outputs": [],
   "source": [
    "# Dependencies\n",
    "from typing import Union"
   ]
  },
  {
   "cell_type": "code",
   "execution_count": 80,
   "id": "8bcd2796",
   "metadata": {},
   "outputs": [],
   "source": [
    "# Standard BFS Traversal Algorithm\n",
    "def BreadthFirstSearch(graph: dict[str,list[str]],v_o: str,v_f: str) -> Union[list[str],None]:\n",
    "    \"\"\" \n",
    "    Breadth First Traversal of a Graph.\n",
    "    \n",
    "    Args:\n",
    "        graph (dict[str,list[str]]): Graph represented as an Adjacency list.\n",
    "        v_o (str): Initial vertex.\n",
    "        v_f (str): Destination vertex.\n",
    "    Attributes:\n",
    "        frontier (list): Queue of vertecies to explore.\n",
    "        visited (list): List of explored verticies.\n",
    "    Returns:\n",
    "        visited: If v_f is found.\n",
    "        None: If v_f is not found.\n",
    "    \"\"\"\n",
    "    # Frontier Queue\n",
    "    frontier = list()\n",
    "    # Visited List\n",
    "    visited = list()\n",
    "    frontier.append(v_o)\n",
    "    while len(frontier)>0:\n",
    "        v_i = frontier[0]\n",
    "        # Find adjacent verticies of v_i\n",
    "        adjacent_nodes = graph[v_i]\n",
    "        # Add unvisited verticies to frontier\n",
    "        for v in adjacent_nodes:\n",
    "            if v not in visited:\n",
    "                frontier.append(v)\n",
    "        # v_i has been visited\n",
    "        frontier.pop(0)\n",
    "        # v_f has been found\n",
    "        visited.append(v_i)\n",
    "        if v_f in visited:\n",
    "            break\n",
    "    if v_f in visited:\n",
    "        return visited\n",
    "    else:\n",
    "        return None"
   ]
  },
  {
   "cell_type": "code",
   "execution_count": 81,
   "id": "70e23226",
   "metadata": {},
   "outputs": [
    {
     "data": {
      "text/plain": [
       "['a', 'b', 'c', 'd', 'e', 'f']"
      ]
     },
     "execution_count": 81,
     "metadata": {},
     "output_type": "execute_result"
    }
   ],
   "source": [
    "BreadthFirstSearch(graph,\"a\",\"f\")"
   ]
  },
  {
   "cell_type": "code",
   "execution_count": null,
   "id": "693c65aa",
   "metadata": {},
   "outputs": [],
   "source": [
    "#BFS Shortest path finding algorithm\n",
    "def BFSShortestPath(graph: dict[str,list[str]],v_o: str,v_f: str) -> Union[list[str],None]:\n",
    "    \"\"\" \n",
    "    Shortest path using BFS.\n",
    "    \n",
    "    Args:\n",
    "        graph (dict[str,list[str]]): Graph represented as an Adjacency list.\n",
    "        v_o (str): Initial vertex.\n",
    "        v_f (str): Destination vertex.\n",
    "    Attributes:\n",
    "        frontier (list): Queue of vertecies to explore.\n",
    "        visited (list): List of explored verticies.\n",
    "    Returns:\n",
    "        visited: If v_f is found.\n",
    "        None: If v_f is not found.\n",
    "    \"\"\"\n",
    "    # Frontier Queue\n",
    "    frontier = list()\n",
    "    # Visited List\n",
    "    visited = list()\n",
    "    # ShortestPath list\n",
    "    shortestPath = list()\n",
    "    frontier.append(v_o)\n",
    "    while len(frontier)>0:\n",
    "        v_i = frontier[0]\n",
    "        # Find adjacent verticies of v_i\n",
    "        adjacent_nodes = graph[v_i]\n",
    "        # Add unvisited verticies to frontier\n",
    "        for v in adjacent_nodes:\n",
    "            if v not in visited:\n",
    "                frontier.append(v)\n",
    "        # v_i has been visited\n",
    "        frontier.pop(0)\n",
    "        # v_f has been found\n",
    "        visited.append(v_i)\n",
    "        if v_f in visited:\n",
    "            break\n",
    "    if v_f in visited:\n",
    "        return visited\n",
    "    else:\n",
    "        return None"
   ]
  }
 ],
 "metadata": {
  "kernelspec": {
   "display_name": "Python 3 (ipykernel)",
   "language": "python",
   "name": "python3"
  },
  "language_info": {
   "codemirror_mode": {
    "name": "ipython",
    "version": 3
   },
   "file_extension": ".py",
   "mimetype": "text/x-python",
   "name": "python",
   "nbconvert_exporter": "python",
   "pygments_lexer": "ipython3",
   "version": "3.9.16"
  }
 },
 "nbformat": 4,
 "nbformat_minor": 5
}
